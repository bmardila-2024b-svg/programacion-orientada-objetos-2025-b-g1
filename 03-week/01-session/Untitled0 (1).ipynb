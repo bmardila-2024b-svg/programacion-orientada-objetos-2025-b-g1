{
  "nbformat": 4,
  "nbformat_minor": 0,
  "metadata": {
    "colab": {
      "provenance": []
    },
    "kernelspec": {
      "name": "python3",
      "display_name": "Python 3"
    },
    "language_info": {
      "name": "python"
    }
  },
  "cells": [
    {
      "cell_type": "code",
      "execution_count": 11,
      "metadata": {
        "id": "gqBN4G9BPobU"
      },
      "outputs": [],
      "source": [
        "class cuentaBancaria:\n",
        "  def __init__(self, titular: str, saldo_inicial: float = 0.0):\n",
        "    if saldo_inicial < 0:\n",
        "      raise ValueError(\"El saldo inicial no puede ser negativo\")\n",
        "    self.titular = titular\n",
        "    self._saldo = float(saldo_inicial)\n",
        "    self.historial: list[str] = []\n",
        "\n",
        "  @property\n",
        "  def saldo(self) -> float:\n",
        "    return self._saldo\n",
        "\n",
        "  def depositar(self, monto: float) -> None:\n",
        "    if monto <= 0:\n",
        "      raise ValueError(\"El deposito debe ser positivo\")\n",
        "    self._saldo += monto\n",
        "    self.historial.append(f\"deposito de {monto}\")\n",
        "\n",
        "  def retirar(self, monto: float) -> None:\n",
        "    if monto <= 0:\n",
        "      raise ValueError(\"el retiro debe ser positivo\")\n",
        "    if monto > self._saldo:\n",
        "      raise ValueError(\"fondos insuficientes\")\n",
        "    self._saldo -= monto\n",
        "    self.historial.append(f\"retiro de {monto}\")\n",
        "\n",
        "  def _repr_(self) -> str:\n",
        "    return f\"cuentaBancaria(titular='{self.titular})', saldo={self._saldo:.2f}\""
      ]
    },
    {
      "cell_type": "code",
      "metadata": {
        "colab": {
          "base_uri": "https://localhost:8080/"
        },
        "id": "522d66b5",
        "outputId": "70b69eee-bcf6-4cac-8f80-68e377a70d5c"
      },
      "source": [
        "# Crear una instancia de cuentaBancaria\n",
        "mi_cuenta = cuentaBancaria(titular=\"Juan Pérez\", saldo_inicial=1000.0)\n",
        "\n",
        "# Mostrar el saldo inicial\n",
        "print(f\"Saldo inicial de {mi_cuenta.titular}: {mi_cuenta.saldo:.2f}\")\n",
        "\n",
        "# Depositar dinero\n",
        "mi_cuenta.depositar(500.0)\n",
        "print(f\"Saldo después del depósito: {mi_cuenta.saldo:.2f}\")\n",
        "\n",
        "# Retirar dinero\n",
        "mi_cuenta.retirar(200.0)\n",
        "print(f\"Saldo después del retiro: {mi_cuenta.saldo:.2f}\")\n",
        "\n",
        "# Intentar retirar más de lo que hay en la cuenta (esto generará un error)\n",
        "try:\n",
        "    mi_cuenta.retirar(2000.0)\n",
        "except ValueError as e:\n",
        "    print(f\"Error al intentar retirar: {e}\")\n",
        "\n",
        "# Mostrar el historial de transacciones\n",
        "print(\"Historial de transacciones:\")\n",
        "for transaccion in mi_cuenta.historial:\n",
        "    print(f\"- {transaccion}\")\n",
        "\n",
        "Justificacion:\n",
        "Este código demuestra el uso de la clase cuentaBancaria.\n",
        "Crea una cuenta, realiza depósitos y retiros para mostrar su funcionalidad.\n",
        "También ejemplifica el manejo de errores y el registro de transacciones.\n",
        "\n",
        "Resumen de apredizaje :\n",
        "°Crea una instancia de la clase cuentaBancaria con un saldo inicial.\n",
        "°Muestra el saldo inicial de la cuenta.\n",
        "°Deposita una cantidad de dinero en la cuenta.\n",
        "°Retira una cantidad de dinero de la cuenta.\n",
        "°Intenta retirar una cantidad mayor al saldo para demostrar el manejo de errores y muestra el historial de transacciones.\n"
      ],
      "execution_count": 12,
      "outputs": [
        {
          "output_type": "stream",
          "name": "stdout",
          "text": [
            "Saldo inicial de Juan Pérez: 1000.00\n",
            "Saldo después del depósito: 1500.00\n",
            "Saldo después del retiro: 1300.00\n",
            "Error al intentar retirar: fondos insuficientes\n",
            "Historial de transacciones:\n",
            "- deposito de 500.0\n",
            "- retiro de 200.0\n"
          ]
        }
      ]
    }
  ]
}